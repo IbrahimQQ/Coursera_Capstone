{
 "cells": [
  {
   "cell_type": "markdown",
   "metadata": {},
   "source": [
    "# Importing libraries "
   ]
  },
  {
   "cell_type": "code",
   "execution_count": 1,
   "metadata": {},
   "outputs": [],
   "source": [
    "import pandas as pd\n",
    "import numpy as np\n",
    "from bs4 import BeautifulSoup\n",
    "import requests"
   ]
  },
  {
   "cell_type": "markdown",
   "metadata": {},
   "source": [
    "# Preprocessing"
   ]
  },
  {
   "cell_type": "code",
   "execution_count": 2,
   "metadata": {},
   "outputs": [],
   "source": [
    "wikipedia='https://en.wikipedia.org/wiki/List_of_postal_codes_of_Canada:_M'\n",
    "wikipediapage= requests.get(wikipedia).text\n",
    "soup = BeautifulSoup(wikipediapage,'xml')"
   ]
  },
  {
   "cell_type": "markdown",
   "metadata": {},
   "source": [
    "# Extracting table from wikipedia"
   ]
  },
  {
   "cell_type": "code",
   "execution_count": 9,
   "metadata": {},
   "outputs": [],
   "source": [
    "data = []\n",
    "for tr in soup.tbody.find_all('tr'):\n",
    "    data.append([ td.get_text().strip() for td in tr.find_all('td')])\n",
    "\n",
    "\n",
    "df = pd.DataFrame(data, columns=['PostalCode','Borough','Neighborhood'])\n",
    "df = df.dropna()\n",
    "empty = 'Not assigned'\n",
    "df = df[(df.PostalCode != empty ) & (df.Borough != empty) & (df.Neighborhood != empty)]\n",
    "\n",
    "def neighborhood_list(grouped):    \n",
    "    return ', '.join(sorted(grouped['Neighborhood'].tolist()))\n",
    "                    \n",
    "grp = df.groupby(['PostalCode', 'Borough'])\n",
    "df2 = grp.apply(neighborhood_list).reset_index(name='Neighborhood')"
   ]
  },
  {
   "cell_type": "code",
   "execution_count": 10,
   "metadata": {},
   "outputs": [
    {
     "data": {
      "text/plain": [
       "<bound method NDFrame.head of     PostalCode           Borough  \\\n",
       "0          M1B       Scarborough   \n",
       "1          M1C       Scarborough   \n",
       "2          M1E       Scarborough   \n",
       "3          M1G       Scarborough   \n",
       "4          M1H       Scarborough   \n",
       "5          M1J       Scarborough   \n",
       "6          M1K       Scarborough   \n",
       "7          M1L       Scarborough   \n",
       "8          M1M       Scarborough   \n",
       "9          M1N       Scarborough   \n",
       "10         M1P       Scarborough   \n",
       "11         M1R       Scarborough   \n",
       "12         M1S       Scarborough   \n",
       "13         M1T       Scarborough   \n",
       "14         M1V       Scarborough   \n",
       "15         M1W       Scarborough   \n",
       "16         M1X       Scarborough   \n",
       "17         M2H        North York   \n",
       "18         M2J        North York   \n",
       "19         M2K        North York   \n",
       "20         M2L        North York   \n",
       "21         M2M        North York   \n",
       "22         M2N        North York   \n",
       "23         M2P        North York   \n",
       "24         M2R        North York   \n",
       "25         M3A        North York   \n",
       "26         M3B        North York   \n",
       "27         M3C        North York   \n",
       "28         M3H        North York   \n",
       "29         M3J        North York   \n",
       "..         ...               ...   \n",
       "72         M6B        North York   \n",
       "73         M6C              York   \n",
       "74         M6E              York   \n",
       "75         M6G  Downtown Toronto   \n",
       "76         M6H      West Toronto   \n",
       "77         M6J      West Toronto   \n",
       "78         M6K      West Toronto   \n",
       "79         M6L        North York   \n",
       "80         M6M              York   \n",
       "81         M6N              York   \n",
       "82         M6P      West Toronto   \n",
       "83         M6R      West Toronto   \n",
       "84         M6S      West Toronto   \n",
       "85         M7R       Mississauga   \n",
       "86         M7Y      East Toronto   \n",
       "87         M8V         Etobicoke   \n",
       "88         M8W         Etobicoke   \n",
       "89         M8X         Etobicoke   \n",
       "90         M8Y         Etobicoke   \n",
       "91         M8Z         Etobicoke   \n",
       "92         M9A         Etobicoke   \n",
       "93         M9B         Etobicoke   \n",
       "94         M9C         Etobicoke   \n",
       "95         M9L        North York   \n",
       "96         M9M        North York   \n",
       "97         M9N              York   \n",
       "98         M9P         Etobicoke   \n",
       "99         M9R         Etobicoke   \n",
       "100        M9V         Etobicoke   \n",
       "101        M9W         Etobicoke   \n",
       "\n",
       "                                          Neighborhood  \n",
       "0                                       Malvern, Rouge  \n",
       "1               Highland Creek, Port Union, Rouge Hill  \n",
       "2                    Guildwood, Morningside, West Hill  \n",
       "3                                               Woburn  \n",
       "4                                            Cedarbrae  \n",
       "5                                  Scarborough Village  \n",
       "6          East Birchmount Park, Ionview, Kennedy Park  \n",
       "7                      Clairlea, Golden Mile, Oakridge  \n",
       "8      Cliffcrest, Cliffside, Scarborough Village West  \n",
       "9                          Birch Cliff, Cliffside West  \n",
       "10   Dorset Park, Scarborough Town Centre, Wexford ...  \n",
       "11                                   Maryvale, Wexford  \n",
       "12                                           Agincourt  \n",
       "13             Clarks Corners, Sullivan, Tam O'Shanter  \n",
       "14   Agincourt North, L'Amoreaux East, Milliken, St...  \n",
       "15                                     L'Amoreaux West  \n",
       "16                                         Upper Rouge  \n",
       "17                                   Hillcrest Village  \n",
       "18                        Fairview, Henry Farm, Oriole  \n",
       "19                                     Bayview Village  \n",
       "20                            Silver Hills, York Mills  \n",
       "21                             Newtonbrook, Willowdale  \n",
       "22                                    Willowdale South  \n",
       "23                                     York Mills West  \n",
       "24                                     Willowdale West  \n",
       "25                                           Parkwoods  \n",
       "26                                     Don Mills North  \n",
       "27                    Don Mills South, Flemingdon Park  \n",
       "28     Bathurst Manor, Downsview North, Wilson Heights  \n",
       "29                     Northwood Park, York University  \n",
       "..                                                 ...  \n",
       "72                                           Glencairn  \n",
       "73                                  Humewood-Cedarvale  \n",
       "74                                 Caledonia-Fairbanks  \n",
       "75                                            Christie  \n",
       "76                        Dovercourt Village, Dufferin  \n",
       "77                            Little Portugal, Trinity  \n",
       "78        Brockton, Exhibition Place, Parkdale Village  \n",
       "79                  Downsview, North Park, Upwood Park  \n",
       "80      Del Ray, Keelesdale, Mount Dennis, Silverthorn  \n",
       "81                       Runnymede, The Junction North  \n",
       "82                       High Park, The Junction South  \n",
       "83                              Parkdale, Roncesvalles  \n",
       "84                                  Runnymede, Swansea  \n",
       "85               Canada Post Gateway Processing Centre  \n",
       "86   Business Reply Mail Processing Centre 969 Eastern  \n",
       "87        Humber Bay Shores, Mimico South, New Toronto  \n",
       "88                              Alderwood, Long Branch  \n",
       "89       Montgomery Road, Old Mill North, The Kingsway  \n",
       "90   Humber Bay, King's Mill Park, Kingsway Park So...  \n",
       "91   Kingsway Park South West, Mimico NW, Royal Yor...  \n",
       "92                                    Islington Avenue  \n",
       "93   Cloverdale, Islington, Martin Grove, Princess ...  \n",
       "94   Bloordale Gardens, Eringate, Markland Wood, Ol...  \n",
       "95                                       Humber Summit  \n",
       "96                                    Emery, Humberlea  \n",
       "97                                              Weston  \n",
       "98                                           Westmount  \n",
       "99   Kingsview Village, Martin Grove Gardens, Richv...  \n",
       "100  Albion Gardens, Beaumond Heights, Humbergate, ...  \n",
       "101                                          Northwest  \n",
       "\n",
       "[102 rows x 3 columns]>"
      ]
     },
     "execution_count": 10,
     "metadata": {},
     "output_type": "execute_result"
    }
   ],
   "source": [
    "df2.head"
   ]
  },
  {
   "cell_type": "code",
   "execution_count": 11,
   "metadata": {},
   "outputs": [
    {
     "data": {
      "text/plain": [
       "(102, 3)"
      ]
     },
     "execution_count": 11,
     "metadata": {},
     "output_type": "execute_result"
    }
   ],
   "source": [
    "\n",
    "df2.shape"
   ]
  },
  {
   "cell_type": "code",
   "execution_count": null,
   "metadata": {},
   "outputs": [],
   "source": []
  }
 ],
 "metadata": {
  "kernelspec": {
   "display_name": "Python 3",
   "language": "python",
   "name": "python3"
  },
  "language_info": {
   "codemirror_mode": {
    "name": "ipython",
    "version": 3
   },
   "file_extension": ".py",
   "mimetype": "text/x-python",
   "name": "python",
   "nbconvert_exporter": "python",
   "pygments_lexer": "ipython3",
   "version": "3.7.3"
  }
 },
 "nbformat": 4,
 "nbformat_minor": 2
}
